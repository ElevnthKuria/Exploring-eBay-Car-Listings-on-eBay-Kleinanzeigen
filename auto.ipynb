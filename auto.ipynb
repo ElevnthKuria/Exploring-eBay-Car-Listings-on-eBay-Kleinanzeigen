{
 "cells": [
  {
   "cell_type": "markdown",
   "metadata": {},
   "source": [
    "\n",
    "### 1. Importing the libraries we need and reading the dataset into pandas.\n"
   ]
  },
  {
   "cell_type": "code",
   "execution_count": 83,
   "metadata": {},
   "outputs": [],
   "source": [
    "import pandas as pd\n",
    "import numpy as np"
   ]
  },
  {
   "cell_type": "markdown",
   "metadata": {},
   "source": [
    "### 2. Loading Dataset into our Jupyter Notebook\n"
   ]
  },
  {
   "cell_type": "code",
   "execution_count": 84,
   "metadata": {},
   "outputs": [
    {
     "name": "stdout",
     "output_type": "stream",
     "text": [
      "<class 'pandas.core.frame.DataFrame'>\n",
      "RangeIndex: 30000 entries, 0 to 29999\n",
      "Data columns (total 21 columns):\n",
      " #   Column               Non-Null Count  Dtype \n",
      "---  ------               --------------  ----- \n",
      " 0   Unnamed: 0           30000 non-null  int64 \n",
      " 1   dateCrawled          30000 non-null  object\n",
      " 2   name                 30000 non-null  object\n",
      " 3   seller               30000 non-null  object\n",
      " 4   offerType            30000 non-null  object\n",
      " 5   price                30000 non-null  int64 \n",
      " 6   abtest               30000 non-null  object\n",
      " 7   vehicleType          26963 non-null  object\n",
      " 8   yearOfRegistration   30000 non-null  int64 \n",
      " 9   gearbox              28420 non-null  object\n",
      " 10  powerPS              30000 non-null  int64 \n",
      " 11  model                28320 non-null  object\n",
      " 12  kilometer            30000 non-null  int64 \n",
      " 13  monthOfRegistration  30000 non-null  int64 \n",
      " 14  fuelType             27330 non-null  object\n",
      " 15  brand                30000 non-null  object\n",
      " 16  notRepairedDamage    24077 non-null  object\n",
      " 17  dateCreated          30000 non-null  object\n",
      " 18  nrOfPictures         30000 non-null  int64 \n",
      " 19  postalCode           30000 non-null  int64 \n",
      " 20  lastSeen             30000 non-null  object\n",
      "dtypes: int64(8), object(13)\n",
      "memory usage: 4.8+ MB\n"
     ]
    },
    {
     "data": {
      "text/plain": [
       "<bound method NDFrame.describe of        Unnamed: 0          dateCrawled  \\\n",
       "0           52489  2016-03-16 21:37:36   \n",
       "1          174423  2016-04-01 13:36:58   \n",
       "2           91195  2016-04-03 15:45:31   \n",
       "3          138395  2016-03-30 11:52:34   \n",
       "4          190527  2016-04-01 16:37:30   \n",
       "...           ...                  ...   \n",
       "29995      124522  2016-03-31 19:46:09   \n",
       "29996       38277  2016-03-23 19:45:50   \n",
       "29997      147623  2016-03-24 10:58:42   \n",
       "29998      213272  2016-03-09 16:55:55   \n",
       "29999       43445  2016-04-04 20:44:18   \n",
       "\n",
       "                                                    name  seller offerType  \\\n",
       "0                   Chrysler_300_M_3.5__TÃV_neu_03/2018  privat   Angebot   \n",
       "1                  Renault_Clio_Bastlerfahrzeug_mit_TÃV  privat   Angebot   \n",
       "2                                      Auto_zu_verkaufen  privat   Angebot   \n",
       "3                             Opel_astra_g_Coupe_bertone  privat   Angebot   \n",
       "4                                     Seat_Ibiza_1_9_TDI  privat   Angebot   \n",
       "...                                                  ...     ...       ...   \n",
       "29995       FORD_KA__>_vieles_neu!_anschauen_lohnt_sich.  privat   Angebot   \n",
       "29996  Ford_Mondeo_Kombi_Automatik_1_8L_115PS_165100k...  privat   Angebot   \n",
       "29997                                 Renault_Twingo_1.2  privat   Angebot   \n",
       "29998                       Audi_A6_Avant_2.5TDI_quattro  privat   Angebot   \n",
       "29999                        Land_Rover_Freelander_TD4_S  privat   Angebot   \n",
       "\n",
       "       price   abtest vehicleType  yearOfRegistration    gearbox  ...  \\\n",
       "0       4900  control   limousine                2004  automatik  ...   \n",
       "1        300     test  kleinwagen                1996    manuell  ...   \n",
       "2        400     test   limousine                2001    manuell  ...   \n",
       "3       2800     test       coupe                2004    manuell  ...   \n",
       "4        950  control  kleinwagen                2000    manuell  ...   \n",
       "...      ...      ...         ...                 ...        ...  ...   \n",
       "29995    750  control  kleinwagen                1997    manuell  ...   \n",
       "29996   1650  control       kombi                2000  automatik  ...   \n",
       "29997   1495     test  kleinwagen                2003    manuell  ...   \n",
       "29998   1999     test       kombi                2001  automatik  ...   \n",
       "29999  11700  control         suv                2008    manuell  ...   \n",
       "\n",
       "            model kilometer  monthOfRegistration  fuelType       brand  \\\n",
       "0          andere    150000                    3    benzin    chrysler   \n",
       "1            clio    150000                   11    benzin     renault   \n",
       "2         primera      5000                    0    benzin      nissan   \n",
       "3           astra    150000                    0    benzin        opel   \n",
       "4           ibiza    150000                   10    diesel        seat   \n",
       "...           ...       ...                  ...       ...         ...   \n",
       "29995          ka    125000                   10    benzin        ford   \n",
       "29996      mondeo    150000                    9    benzin        ford   \n",
       "29997      twingo     90000                    3    benzin     renault   \n",
       "29998          a6    150000                    1    diesel        audi   \n",
       "29999  freelander    150000                    7    diesel  land_rover   \n",
       "\n",
       "      notRepairedDamage          dateCreated nrOfPictures  postalCode  \\\n",
       "0                  nein  2016-03-16 00:00:00            0       88069   \n",
       "1                   NaN  2016-04-01 00:00:00            0       33335   \n",
       "2                    ja  2016-04-03 00:00:00            0       13627   \n",
       "3                   NaN  2016-03-30 00:00:00            0       25832   \n",
       "4                    ja  2016-04-01 00:00:00            0       53925   \n",
       "...                 ...                  ...          ...         ...   \n",
       "29995               NaN  2016-03-31 00:00:00            0       22117   \n",
       "29996              nein  2016-03-23 00:00:00            0       29323   \n",
       "29997              nein  2016-03-24 00:00:00            0       99894   \n",
       "29998              nein  2016-03-09 00:00:00            0       83064   \n",
       "29999              nein  2016-04-04 00:00:00            0       16356   \n",
       "\n",
       "                  lastSeen  \n",
       "0      2016-04-07 13:15:40  \n",
       "1      2016-04-07 11:18:05  \n",
       "2      2016-04-05 14:46:21  \n",
       "3      2016-04-07 02:45:04  \n",
       "4      2016-04-01 16:37:30  \n",
       "...                    ...  \n",
       "29995  2016-04-04 12:47:30  \n",
       "29996  2016-04-05 23:17:38  \n",
       "29997  2016-03-27 07:44:41  \n",
       "29998  2016-03-22 01:17:07  \n",
       "29999  2016-04-06 22:46:44  \n",
       "\n",
       "[30000 rows x 21 columns]>"
      ]
     },
     "execution_count": 84,
     "metadata": {},
     "output_type": "execute_result"
    }
   ],
   "source": [
    "autos = pd.read_csv(\"autos_clean.csv\", encoding=\"Latin-1\")\n",
    "\n",
    "autos.info()\n",
    "autos.describe"
   ]
  },
  {
   "cell_type": "code",
   "execution_count": 85,
   "metadata": {},
   "outputs": [
    {
     "data": {
      "text/html": [
       "<div>\n",
       "<style scoped>\n",
       "    .dataframe tbody tr th:only-of-type {\n",
       "        vertical-align: middle;\n",
       "    }\n",
       "\n",
       "    .dataframe tbody tr th {\n",
       "        vertical-align: top;\n",
       "    }\n",
       "\n",
       "    .dataframe thead th {\n",
       "        text-align: right;\n",
       "    }\n",
       "</style>\n",
       "<table border=\"1\" class=\"dataframe\">\n",
       "  <thead>\n",
       "    <tr style=\"text-align: right;\">\n",
       "      <th></th>\n",
       "      <th>Unnamed: 0</th>\n",
       "      <th>dateCrawled</th>\n",
       "      <th>name</th>\n",
       "      <th>seller</th>\n",
       "      <th>offerType</th>\n",
       "      <th>price</th>\n",
       "      <th>abtest</th>\n",
       "      <th>vehicleType</th>\n",
       "      <th>yearOfRegistration</th>\n",
       "      <th>gearbox</th>\n",
       "      <th>...</th>\n",
       "      <th>model</th>\n",
       "      <th>kilometer</th>\n",
       "      <th>monthOfRegistration</th>\n",
       "      <th>fuelType</th>\n",
       "      <th>brand</th>\n",
       "      <th>notRepairedDamage</th>\n",
       "      <th>dateCreated</th>\n",
       "      <th>nrOfPictures</th>\n",
       "      <th>postalCode</th>\n",
       "      <th>lastSeen</th>\n",
       "    </tr>\n",
       "  </thead>\n",
       "  <tbody>\n",
       "    <tr>\n",
       "      <th>0</th>\n",
       "      <td>52489</td>\n",
       "      <td>2016-03-16 21:37:36</td>\n",
       "      <td>Chrysler_300_M_3.5__TÃV_neu_03/2018</td>\n",
       "      <td>privat</td>\n",
       "      <td>Angebot</td>\n",
       "      <td>4900</td>\n",
       "      <td>control</td>\n",
       "      <td>limousine</td>\n",
       "      <td>2004</td>\n",
       "      <td>automatik</td>\n",
       "      <td>...</td>\n",
       "      <td>andere</td>\n",
       "      <td>150000</td>\n",
       "      <td>3</td>\n",
       "      <td>benzin</td>\n",
       "      <td>chrysler</td>\n",
       "      <td>nein</td>\n",
       "      <td>2016-03-16 00:00:00</td>\n",
       "      <td>0</td>\n",
       "      <td>88069</td>\n",
       "      <td>2016-04-07 13:15:40</td>\n",
       "    </tr>\n",
       "    <tr>\n",
       "      <th>1</th>\n",
       "      <td>174423</td>\n",
       "      <td>2016-04-01 13:36:58</td>\n",
       "      <td>Renault_Clio_Bastlerfahrzeug_mit_TÃV</td>\n",
       "      <td>privat</td>\n",
       "      <td>Angebot</td>\n",
       "      <td>300</td>\n",
       "      <td>test</td>\n",
       "      <td>kleinwagen</td>\n",
       "      <td>1996</td>\n",
       "      <td>manuell</td>\n",
       "      <td>...</td>\n",
       "      <td>clio</td>\n",
       "      <td>150000</td>\n",
       "      <td>11</td>\n",
       "      <td>benzin</td>\n",
       "      <td>renault</td>\n",
       "      <td>NaN</td>\n",
       "      <td>2016-04-01 00:00:00</td>\n",
       "      <td>0</td>\n",
       "      <td>33335</td>\n",
       "      <td>2016-04-07 11:18:05</td>\n",
       "    </tr>\n",
       "    <tr>\n",
       "      <th>2</th>\n",
       "      <td>91195</td>\n",
       "      <td>2016-04-03 15:45:31</td>\n",
       "      <td>Auto_zu_verkaufen</td>\n",
       "      <td>privat</td>\n",
       "      <td>Angebot</td>\n",
       "      <td>400</td>\n",
       "      <td>test</td>\n",
       "      <td>limousine</td>\n",
       "      <td>2001</td>\n",
       "      <td>manuell</td>\n",
       "      <td>...</td>\n",
       "      <td>primera</td>\n",
       "      <td>5000</td>\n",
       "      <td>0</td>\n",
       "      <td>benzin</td>\n",
       "      <td>nissan</td>\n",
       "      <td>ja</td>\n",
       "      <td>2016-04-03 00:00:00</td>\n",
       "      <td>0</td>\n",
       "      <td>13627</td>\n",
       "      <td>2016-04-05 14:46:21</td>\n",
       "    </tr>\n",
       "    <tr>\n",
       "      <th>3</th>\n",
       "      <td>138395</td>\n",
       "      <td>2016-03-30 11:52:34</td>\n",
       "      <td>Opel_astra_g_Coupe_bertone</td>\n",
       "      <td>privat</td>\n",
       "      <td>Angebot</td>\n",
       "      <td>2800</td>\n",
       "      <td>test</td>\n",
       "      <td>coupe</td>\n",
       "      <td>2004</td>\n",
       "      <td>manuell</td>\n",
       "      <td>...</td>\n",
       "      <td>astra</td>\n",
       "      <td>150000</td>\n",
       "      <td>0</td>\n",
       "      <td>benzin</td>\n",
       "      <td>opel</td>\n",
       "      <td>NaN</td>\n",
       "      <td>2016-03-30 00:00:00</td>\n",
       "      <td>0</td>\n",
       "      <td>25832</td>\n",
       "      <td>2016-04-07 02:45:04</td>\n",
       "    </tr>\n",
       "    <tr>\n",
       "      <th>4</th>\n",
       "      <td>190527</td>\n",
       "      <td>2016-04-01 16:37:30</td>\n",
       "      <td>Seat_Ibiza_1_9_TDI</td>\n",
       "      <td>privat</td>\n",
       "      <td>Angebot</td>\n",
       "      <td>950</td>\n",
       "      <td>control</td>\n",
       "      <td>kleinwagen</td>\n",
       "      <td>2000</td>\n",
       "      <td>manuell</td>\n",
       "      <td>...</td>\n",
       "      <td>ibiza</td>\n",
       "      <td>150000</td>\n",
       "      <td>10</td>\n",
       "      <td>diesel</td>\n",
       "      <td>seat</td>\n",
       "      <td>ja</td>\n",
       "      <td>2016-04-01 00:00:00</td>\n",
       "      <td>0</td>\n",
       "      <td>53925</td>\n",
       "      <td>2016-04-01 16:37:30</td>\n",
       "    </tr>\n",
       "  </tbody>\n",
       "</table>\n",
       "<p>5 rows × 21 columns</p>\n",
       "</div>"
      ],
      "text/plain": [
       "   Unnamed: 0          dateCrawled                                   name  \\\n",
       "0       52489  2016-03-16 21:37:36   Chrysler_300_M_3.5__TÃV_neu_03/2018   \n",
       "1      174423  2016-04-01 13:36:58  Renault_Clio_Bastlerfahrzeug_mit_TÃV   \n",
       "2       91195  2016-04-03 15:45:31                      Auto_zu_verkaufen   \n",
       "3      138395  2016-03-30 11:52:34             Opel_astra_g_Coupe_bertone   \n",
       "4      190527  2016-04-01 16:37:30                     Seat_Ibiza_1_9_TDI   \n",
       "\n",
       "   seller offerType  price   abtest vehicleType  yearOfRegistration  \\\n",
       "0  privat   Angebot   4900  control   limousine                2004   \n",
       "1  privat   Angebot    300     test  kleinwagen                1996   \n",
       "2  privat   Angebot    400     test   limousine                2001   \n",
       "3  privat   Angebot   2800     test       coupe                2004   \n",
       "4  privat   Angebot    950  control  kleinwagen                2000   \n",
       "\n",
       "     gearbox  ...    model kilometer  monthOfRegistration  fuelType     brand  \\\n",
       "0  automatik  ...   andere    150000                    3    benzin  chrysler   \n",
       "1    manuell  ...     clio    150000                   11    benzin   renault   \n",
       "2    manuell  ...  primera      5000                    0    benzin    nissan   \n",
       "3    manuell  ...    astra    150000                    0    benzin      opel   \n",
       "4    manuell  ...    ibiza    150000                   10    diesel      seat   \n",
       "\n",
       "  notRepairedDamage          dateCreated nrOfPictures  postalCode  \\\n",
       "0              nein  2016-03-16 00:00:00            0       88069   \n",
       "1               NaN  2016-04-01 00:00:00            0       33335   \n",
       "2                ja  2016-04-03 00:00:00            0       13627   \n",
       "3               NaN  2016-03-30 00:00:00            0       25832   \n",
       "4                ja  2016-04-01 00:00:00            0       53925   \n",
       "\n",
       "              lastSeen  \n",
       "0  2016-04-07 13:15:40  \n",
       "1  2016-04-07 11:18:05  \n",
       "2  2016-04-05 14:46:21  \n",
       "3  2016-04-07 02:45:04  \n",
       "4  2016-04-01 16:37:30  \n",
       "\n",
       "[5 rows x 21 columns]"
      ]
     },
     "execution_count": 85,
     "metadata": {},
     "output_type": "execute_result"
    }
   ],
   "source": [
    "autos.head(5)"
   ]
  },
  {
   "cell_type": "markdown",
   "metadata": {},
   "source": [
    "### 3. Cleaning Column Names"
   ]
  },
  {
   "cell_type": "code",
   "execution_count": 86,
   "metadata": {},
   "outputs": [],
   "source": [
    "del autos['Unnamed: 0']"
   ]
  },
  {
   "cell_type": "code",
   "execution_count": 87,
   "metadata": {},
   "outputs": [
    {
     "data": {
      "text/plain": [
       "Index(['dateCrawled', 'name', 'seller', 'offerType', 'price', 'abtest',\n",
       "       'vehicleType', 'yearOfRegistration', 'gearbox', 'powerPS', 'model',\n",
       "       'kilometer', 'monthOfRegistration', 'fuelType', 'brand',\n",
       "       'notRepairedDamage', 'dateCreated', 'nrOfPictures', 'postalCode',\n",
       "       'lastSeen'],\n",
       "      dtype='object')"
      ]
     },
     "execution_count": 87,
     "metadata": {},
     "output_type": "execute_result"
    }
   ],
   "source": [
    "autos.columns"
   ]
  },
  {
   "cell_type": "code",
   "execution_count": 88,
   "metadata": {},
   "outputs": [],
   "source": [
    "# Changing column names from camelcase to snakecase\n",
    "autos.columns = ['date_crawled', 'name', 'seller', 'offer_type', 'price', 'ab_test',\n",
    "       'vehicle_type', 'registration_year', 'gearbox', 'power_ps', 'model',\n",
    "       'odometer', 'registration_month', 'fuel_type', 'brand',\n",
    "       'unrepaired_damage', 'ad_created', 'num_photos', 'postal_code',\n",
    "       'last_seen']"
   ]
  },
  {
   "cell_type": "code",
   "execution_count": 89,
   "metadata": {},
   "outputs": [
    {
     "data": {
      "text/html": [
       "<div>\n",
       "<style scoped>\n",
       "    .dataframe tbody tr th:only-of-type {\n",
       "        vertical-align: middle;\n",
       "    }\n",
       "\n",
       "    .dataframe tbody tr th {\n",
       "        vertical-align: top;\n",
       "    }\n",
       "\n",
       "    .dataframe thead th {\n",
       "        text-align: right;\n",
       "    }\n",
       "</style>\n",
       "<table border=\"1\" class=\"dataframe\">\n",
       "  <thead>\n",
       "    <tr style=\"text-align: right;\">\n",
       "      <th></th>\n",
       "      <th>date_crawled</th>\n",
       "      <th>name</th>\n",
       "      <th>seller</th>\n",
       "      <th>offer_type</th>\n",
       "      <th>price</th>\n",
       "      <th>ab_test</th>\n",
       "      <th>vehicle_type</th>\n",
       "      <th>registration_year</th>\n",
       "      <th>gearbox</th>\n",
       "      <th>power_ps</th>\n",
       "      <th>model</th>\n",
       "      <th>odometer</th>\n",
       "      <th>registration_month</th>\n",
       "      <th>fuel_type</th>\n",
       "      <th>brand</th>\n",
       "      <th>unrepaired_damage</th>\n",
       "      <th>ad_created</th>\n",
       "      <th>num_photos</th>\n",
       "      <th>postal_code</th>\n",
       "      <th>last_seen</th>\n",
       "    </tr>\n",
       "  </thead>\n",
       "  <tbody>\n",
       "    <tr>\n",
       "      <th>0</th>\n",
       "      <td>2016-03-16 21:37:36</td>\n",
       "      <td>Chrysler_300_M_3.5__TÃV_neu_03/2018</td>\n",
       "      <td>privat</td>\n",
       "      <td>Angebot</td>\n",
       "      <td>4900</td>\n",
       "      <td>control</td>\n",
       "      <td>limousine</td>\n",
       "      <td>2004</td>\n",
       "      <td>automatik</td>\n",
       "      <td>252</td>\n",
       "      <td>andere</td>\n",
       "      <td>150000</td>\n",
       "      <td>3</td>\n",
       "      <td>benzin</td>\n",
       "      <td>chrysler</td>\n",
       "      <td>nein</td>\n",
       "      <td>2016-03-16 00:00:00</td>\n",
       "      <td>0</td>\n",
       "      <td>88069</td>\n",
       "      <td>2016-04-07 13:15:40</td>\n",
       "    </tr>\n",
       "    <tr>\n",
       "      <th>1</th>\n",
       "      <td>2016-04-01 13:36:58</td>\n",
       "      <td>Renault_Clio_Bastlerfahrzeug_mit_TÃV</td>\n",
       "      <td>privat</td>\n",
       "      <td>Angebot</td>\n",
       "      <td>300</td>\n",
       "      <td>test</td>\n",
       "      <td>kleinwagen</td>\n",
       "      <td>1996</td>\n",
       "      <td>manuell</td>\n",
       "      <td>0</td>\n",
       "      <td>clio</td>\n",
       "      <td>150000</td>\n",
       "      <td>11</td>\n",
       "      <td>benzin</td>\n",
       "      <td>renault</td>\n",
       "      <td>NaN</td>\n",
       "      <td>2016-04-01 00:00:00</td>\n",
       "      <td>0</td>\n",
       "      <td>33335</td>\n",
       "      <td>2016-04-07 11:18:05</td>\n",
       "    </tr>\n",
       "    <tr>\n",
       "      <th>2</th>\n",
       "      <td>2016-04-03 15:45:31</td>\n",
       "      <td>Auto_zu_verkaufen</td>\n",
       "      <td>privat</td>\n",
       "      <td>Angebot</td>\n",
       "      <td>400</td>\n",
       "      <td>test</td>\n",
       "      <td>limousine</td>\n",
       "      <td>2001</td>\n",
       "      <td>manuell</td>\n",
       "      <td>120</td>\n",
       "      <td>primera</td>\n",
       "      <td>5000</td>\n",
       "      <td>0</td>\n",
       "      <td>benzin</td>\n",
       "      <td>nissan</td>\n",
       "      <td>ja</td>\n",
       "      <td>2016-04-03 00:00:00</td>\n",
       "      <td>0</td>\n",
       "      <td>13627</td>\n",
       "      <td>2016-04-05 14:46:21</td>\n",
       "    </tr>\n",
       "    <tr>\n",
       "      <th>3</th>\n",
       "      <td>2016-03-30 11:52:34</td>\n",
       "      <td>Opel_astra_g_Coupe_bertone</td>\n",
       "      <td>privat</td>\n",
       "      <td>Angebot</td>\n",
       "      <td>2800</td>\n",
       "      <td>test</td>\n",
       "      <td>coupe</td>\n",
       "      <td>2004</td>\n",
       "      <td>manuell</td>\n",
       "      <td>147</td>\n",
       "      <td>astra</td>\n",
       "      <td>150000</td>\n",
       "      <td>0</td>\n",
       "      <td>benzin</td>\n",
       "      <td>opel</td>\n",
       "      <td>NaN</td>\n",
       "      <td>2016-03-30 00:00:00</td>\n",
       "      <td>0</td>\n",
       "      <td>25832</td>\n",
       "      <td>2016-04-07 02:45:04</td>\n",
       "    </tr>\n",
       "    <tr>\n",
       "      <th>4</th>\n",
       "      <td>2016-04-01 16:37:30</td>\n",
       "      <td>Seat_Ibiza_1_9_TDI</td>\n",
       "      <td>privat</td>\n",
       "      <td>Angebot</td>\n",
       "      <td>950</td>\n",
       "      <td>control</td>\n",
       "      <td>kleinwagen</td>\n",
       "      <td>2000</td>\n",
       "      <td>manuell</td>\n",
       "      <td>90</td>\n",
       "      <td>ibiza</td>\n",
       "      <td>150000</td>\n",
       "      <td>10</td>\n",
       "      <td>diesel</td>\n",
       "      <td>seat</td>\n",
       "      <td>ja</td>\n",
       "      <td>2016-04-01 00:00:00</td>\n",
       "      <td>0</td>\n",
       "      <td>53925</td>\n",
       "      <td>2016-04-01 16:37:30</td>\n",
       "    </tr>\n",
       "  </tbody>\n",
       "</table>\n",
       "</div>"
      ],
      "text/plain": [
       "          date_crawled                                   name  seller  \\\n",
       "0  2016-03-16 21:37:36   Chrysler_300_M_3.5__TÃV_neu_03/2018  privat   \n",
       "1  2016-04-01 13:36:58  Renault_Clio_Bastlerfahrzeug_mit_TÃV  privat   \n",
       "2  2016-04-03 15:45:31                      Auto_zu_verkaufen  privat   \n",
       "3  2016-03-30 11:52:34             Opel_astra_g_Coupe_bertone  privat   \n",
       "4  2016-04-01 16:37:30                     Seat_Ibiza_1_9_TDI  privat   \n",
       "\n",
       "  offer_type  price  ab_test vehicle_type  registration_year    gearbox  \\\n",
       "0    Angebot   4900  control    limousine               2004  automatik   \n",
       "1    Angebot    300     test   kleinwagen               1996    manuell   \n",
       "2    Angebot    400     test    limousine               2001    manuell   \n",
       "3    Angebot   2800     test        coupe               2004    manuell   \n",
       "4    Angebot    950  control   kleinwagen               2000    manuell   \n",
       "\n",
       "   power_ps    model  odometer  registration_month fuel_type     brand  \\\n",
       "0       252   andere    150000                   3    benzin  chrysler   \n",
       "1         0     clio    150000                  11    benzin   renault   \n",
       "2       120  primera      5000                   0    benzin    nissan   \n",
       "3       147    astra    150000                   0    benzin      opel   \n",
       "4        90    ibiza    150000                  10    diesel      seat   \n",
       "\n",
       "  unrepaired_damage           ad_created  num_photos  postal_code  \\\n",
       "0              nein  2016-03-16 00:00:00           0        88069   \n",
       "1               NaN  2016-04-01 00:00:00           0        33335   \n",
       "2                ja  2016-04-03 00:00:00           0        13627   \n",
       "3               NaN  2016-03-30 00:00:00           0        25832   \n",
       "4                ja  2016-04-01 00:00:00           0        53925   \n",
       "\n",
       "             last_seen  \n",
       "0  2016-04-07 13:15:40  \n",
       "1  2016-04-07 11:18:05  \n",
       "2  2016-04-05 14:46:21  \n",
       "3  2016-04-07 02:45:04  \n",
       "4  2016-04-01 16:37:30  "
      ]
     },
     "execution_count": 89,
     "metadata": {},
     "output_type": "execute_result"
    }
   ],
   "source": [
    "autos.head(5)"
   ]
  },
  {
   "cell_type": "markdown",
   "metadata": {},
   "source": [
    "\n",
    "### 4. Initial Exploration and Cleaning.\n",
    "\n",
    "Lets explore the data to find obvious areas where we can clean the data.\n"
   ]
  },
  {
   "cell_type": "code",
   "execution_count": 90,
   "metadata": {},
   "outputs": [
    {
     "data": {
      "text/html": [
       "<div>\n",
       "<style scoped>\n",
       "    .dataframe tbody tr th:only-of-type {\n",
       "        vertical-align: middle;\n",
       "    }\n",
       "\n",
       "    .dataframe tbody tr th {\n",
       "        vertical-align: top;\n",
       "    }\n",
       "\n",
       "    .dataframe thead th {\n",
       "        text-align: right;\n",
       "    }\n",
       "</style>\n",
       "<table border=\"1\" class=\"dataframe\">\n",
       "  <thead>\n",
       "    <tr style=\"text-align: right;\">\n",
       "      <th></th>\n",
       "      <th>date_crawled</th>\n",
       "      <th>name</th>\n",
       "      <th>seller</th>\n",
       "      <th>offer_type</th>\n",
       "      <th>price</th>\n",
       "      <th>ab_test</th>\n",
       "      <th>vehicle_type</th>\n",
       "      <th>registration_year</th>\n",
       "      <th>gearbox</th>\n",
       "      <th>power_ps</th>\n",
       "      <th>model</th>\n",
       "      <th>odometer</th>\n",
       "      <th>registration_month</th>\n",
       "      <th>fuel_type</th>\n",
       "      <th>brand</th>\n",
       "      <th>unrepaired_damage</th>\n",
       "      <th>ad_created</th>\n",
       "      <th>num_photos</th>\n",
       "      <th>postal_code</th>\n",
       "      <th>last_seen</th>\n",
       "    </tr>\n",
       "  </thead>\n",
       "  <tbody>\n",
       "    <tr>\n",
       "      <th>count</th>\n",
       "      <td>30000</td>\n",
       "      <td>30000</td>\n",
       "      <td>30000</td>\n",
       "      <td>30000</td>\n",
       "      <td>3.000000e+04</td>\n",
       "      <td>30000</td>\n",
       "      <td>26963</td>\n",
       "      <td>30000.000000</td>\n",
       "      <td>28420</td>\n",
       "      <td>30000.000000</td>\n",
       "      <td>28320</td>\n",
       "      <td>30000.000000</td>\n",
       "      <td>30000.000000</td>\n",
       "      <td>27330</td>\n",
       "      <td>30000</td>\n",
       "      <td>24077</td>\n",
       "      <td>30000</td>\n",
       "      <td>30000.0</td>\n",
       "      <td>30000.000000</td>\n",
       "      <td>30000</td>\n",
       "    </tr>\n",
       "    <tr>\n",
       "      <th>unique</th>\n",
       "      <td>28285</td>\n",
       "      <td>23511</td>\n",
       "      <td>1</td>\n",
       "      <td>2</td>\n",
       "      <td>NaN</td>\n",
       "      <td>2</td>\n",
       "      <td>8</td>\n",
       "      <td>NaN</td>\n",
       "      <td>2</td>\n",
       "      <td>NaN</td>\n",
       "      <td>241</td>\n",
       "      <td>NaN</td>\n",
       "      <td>NaN</td>\n",
       "      <td>7</td>\n",
       "      <td>40</td>\n",
       "      <td>2</td>\n",
       "      <td>58</td>\n",
       "      <td>NaN</td>\n",
       "      <td>NaN</td>\n",
       "      <td>24924</td>\n",
       "    </tr>\n",
       "    <tr>\n",
       "      <th>top</th>\n",
       "      <td>2016-03-08 19:44:17</td>\n",
       "      <td>Ford_Fiesta</td>\n",
       "      <td>privat</td>\n",
       "      <td>Angebot</td>\n",
       "      <td>NaN</td>\n",
       "      <td>test</td>\n",
       "      <td>limousine</td>\n",
       "      <td>NaN</td>\n",
       "      <td>manuell</td>\n",
       "      <td>NaN</td>\n",
       "      <td>golf</td>\n",
       "      <td>NaN</td>\n",
       "      <td>NaN</td>\n",
       "      <td>benzin</td>\n",
       "      <td>volkswagen</td>\n",
       "      <td>nein</td>\n",
       "      <td>2016-04-03 00:00:00</td>\n",
       "      <td>NaN</td>\n",
       "      <td>NaN</td>\n",
       "      <td>2016-04-07 03:46:06</td>\n",
       "    </tr>\n",
       "    <tr>\n",
       "      <th>freq</th>\n",
       "      <td>4</td>\n",
       "      <td>71</td>\n",
       "      <td>30000</td>\n",
       "      <td>29998</td>\n",
       "      <td>NaN</td>\n",
       "      <td>15597</td>\n",
       "      <td>7644</td>\n",
       "      <td>NaN</td>\n",
       "      <td>22308</td>\n",
       "      <td>NaN</td>\n",
       "      <td>2392</td>\n",
       "      <td>NaN</td>\n",
       "      <td>NaN</td>\n",
       "      <td>18161</td>\n",
       "      <td>6385</td>\n",
       "      <td>21208</td>\n",
       "      <td>1189</td>\n",
       "      <td>NaN</td>\n",
       "      <td>NaN</td>\n",
       "      <td>6</td>\n",
       "    </tr>\n",
       "    <tr>\n",
       "      <th>mean</th>\n",
       "      <td>NaN</td>\n",
       "      <td>NaN</td>\n",
       "      <td>NaN</td>\n",
       "      <td>NaN</td>\n",
       "      <td>1.058453e+04</td>\n",
       "      <td>NaN</td>\n",
       "      <td>NaN</td>\n",
       "      <td>2005.361367</td>\n",
       "      <td>NaN</td>\n",
       "      <td>115.719833</td>\n",
       "      <td>NaN</td>\n",
       "      <td>125729.500000</td>\n",
       "      <td>5.732933</td>\n",
       "      <td>NaN</td>\n",
       "      <td>NaN</td>\n",
       "      <td>NaN</td>\n",
       "      <td>NaN</td>\n",
       "      <td>0.0</td>\n",
       "      <td>51007.737833</td>\n",
       "      <td>NaN</td>\n",
       "    </tr>\n",
       "    <tr>\n",
       "      <th>std</th>\n",
       "      <td>NaN</td>\n",
       "      <td>NaN</td>\n",
       "      <td>NaN</td>\n",
       "      <td>NaN</td>\n",
       "      <td>5.924220e+05</td>\n",
       "      <td>NaN</td>\n",
       "      <td>NaN</td>\n",
       "      <td>114.054959</td>\n",
       "      <td>NaN</td>\n",
       "      <td>222.231276</td>\n",
       "      <td>NaN</td>\n",
       "      <td>39857.746438</td>\n",
       "      <td>3.697134</td>\n",
       "      <td>NaN</td>\n",
       "      <td>NaN</td>\n",
       "      <td>NaN</td>\n",
       "      <td>NaN</td>\n",
       "      <td>0.0</td>\n",
       "      <td>25899.208456</td>\n",
       "      <td>NaN</td>\n",
       "    </tr>\n",
       "    <tr>\n",
       "      <th>min</th>\n",
       "      <td>NaN</td>\n",
       "      <td>NaN</td>\n",
       "      <td>NaN</td>\n",
       "      <td>NaN</td>\n",
       "      <td>0.000000e+00</td>\n",
       "      <td>NaN</td>\n",
       "      <td>NaN</td>\n",
       "      <td>1000.000000</td>\n",
       "      <td>NaN</td>\n",
       "      <td>0.000000</td>\n",
       "      <td>NaN</td>\n",
       "      <td>5000.000000</td>\n",
       "      <td>0.000000</td>\n",
       "      <td>NaN</td>\n",
       "      <td>NaN</td>\n",
       "      <td>NaN</td>\n",
       "      <td>NaN</td>\n",
       "      <td>0.0</td>\n",
       "      <td>1067.000000</td>\n",
       "      <td>NaN</td>\n",
       "    </tr>\n",
       "    <tr>\n",
       "      <th>25%</th>\n",
       "      <td>NaN</td>\n",
       "      <td>NaN</td>\n",
       "      <td>NaN</td>\n",
       "      <td>NaN</td>\n",
       "      <td>1.150000e+03</td>\n",
       "      <td>NaN</td>\n",
       "      <td>NaN</td>\n",
       "      <td>1999.000000</td>\n",
       "      <td>NaN</td>\n",
       "      <td>70.000000</td>\n",
       "      <td>NaN</td>\n",
       "      <td>125000.000000</td>\n",
       "      <td>3.000000</td>\n",
       "      <td>NaN</td>\n",
       "      <td>NaN</td>\n",
       "      <td>NaN</td>\n",
       "      <td>NaN</td>\n",
       "      <td>0.0</td>\n",
       "      <td>30459.000000</td>\n",
       "      <td>NaN</td>\n",
       "    </tr>\n",
       "    <tr>\n",
       "      <th>50%</th>\n",
       "      <td>NaN</td>\n",
       "      <td>NaN</td>\n",
       "      <td>NaN</td>\n",
       "      <td>NaN</td>\n",
       "      <td>2.950000e+03</td>\n",
       "      <td>NaN</td>\n",
       "      <td>NaN</td>\n",
       "      <td>2003.000000</td>\n",
       "      <td>NaN</td>\n",
       "      <td>105.000000</td>\n",
       "      <td>NaN</td>\n",
       "      <td>150000.000000</td>\n",
       "      <td>6.000000</td>\n",
       "      <td>NaN</td>\n",
       "      <td>NaN</td>\n",
       "      <td>NaN</td>\n",
       "      <td>NaN</td>\n",
       "      <td>0.0</td>\n",
       "      <td>49661.000000</td>\n",
       "      <td>NaN</td>\n",
       "    </tr>\n",
       "    <tr>\n",
       "      <th>75%</th>\n",
       "      <td>NaN</td>\n",
       "      <td>NaN</td>\n",
       "      <td>NaN</td>\n",
       "      <td>NaN</td>\n",
       "      <td>7.000000e+03</td>\n",
       "      <td>NaN</td>\n",
       "      <td>NaN</td>\n",
       "      <td>2008.000000</td>\n",
       "      <td>NaN</td>\n",
       "      <td>148.000000</td>\n",
       "      <td>NaN</td>\n",
       "      <td>150000.000000</td>\n",
       "      <td>9.000000</td>\n",
       "      <td>NaN</td>\n",
       "      <td>NaN</td>\n",
       "      <td>NaN</td>\n",
       "      <td>NaN</td>\n",
       "      <td>0.0</td>\n",
       "      <td>72108.000000</td>\n",
       "      <td>NaN</td>\n",
       "    </tr>\n",
       "    <tr>\n",
       "      <th>max</th>\n",
       "      <td>NaN</td>\n",
       "      <td>NaN</td>\n",
       "      <td>NaN</td>\n",
       "      <td>NaN</td>\n",
       "      <td>1.000000e+08</td>\n",
       "      <td>NaN</td>\n",
       "      <td>NaN</td>\n",
       "      <td>9999.000000</td>\n",
       "      <td>NaN</td>\n",
       "      <td>19312.000000</td>\n",
       "      <td>NaN</td>\n",
       "      <td>150000.000000</td>\n",
       "      <td>12.000000</td>\n",
       "      <td>NaN</td>\n",
       "      <td>NaN</td>\n",
       "      <td>NaN</td>\n",
       "      <td>NaN</td>\n",
       "      <td>0.0</td>\n",
       "      <td>99998.000000</td>\n",
       "      <td>NaN</td>\n",
       "    </tr>\n",
       "  </tbody>\n",
       "</table>\n",
       "</div>"
      ],
      "text/plain": [
       "               date_crawled         name  seller offer_type         price  \\\n",
       "count                 30000        30000   30000      30000  3.000000e+04   \n",
       "unique                28285        23511       1          2           NaN   \n",
       "top     2016-03-08 19:44:17  Ford_Fiesta  privat    Angebot           NaN   \n",
       "freq                      4           71   30000      29998           NaN   \n",
       "mean                    NaN          NaN     NaN        NaN  1.058453e+04   \n",
       "std                     NaN          NaN     NaN        NaN  5.924220e+05   \n",
       "min                     NaN          NaN     NaN        NaN  0.000000e+00   \n",
       "25%                     NaN          NaN     NaN        NaN  1.150000e+03   \n",
       "50%                     NaN          NaN     NaN        NaN  2.950000e+03   \n",
       "75%                     NaN          NaN     NaN        NaN  7.000000e+03   \n",
       "max                     NaN          NaN     NaN        NaN  1.000000e+08   \n",
       "\n",
       "       ab_test vehicle_type  registration_year  gearbox      power_ps  model  \\\n",
       "count    30000        26963       30000.000000    28420  30000.000000  28320   \n",
       "unique       2            8                NaN        2           NaN    241   \n",
       "top       test    limousine                NaN  manuell           NaN   golf   \n",
       "freq     15597         7644                NaN    22308           NaN   2392   \n",
       "mean       NaN          NaN        2005.361367      NaN    115.719833    NaN   \n",
       "std        NaN          NaN         114.054959      NaN    222.231276    NaN   \n",
       "min        NaN          NaN        1000.000000      NaN      0.000000    NaN   \n",
       "25%        NaN          NaN        1999.000000      NaN     70.000000    NaN   \n",
       "50%        NaN          NaN        2003.000000      NaN    105.000000    NaN   \n",
       "75%        NaN          NaN        2008.000000      NaN    148.000000    NaN   \n",
       "max        NaN          NaN        9999.000000      NaN  19312.000000    NaN   \n",
       "\n",
       "             odometer  registration_month fuel_type       brand  \\\n",
       "count    30000.000000        30000.000000     27330       30000   \n",
       "unique            NaN                 NaN         7          40   \n",
       "top               NaN                 NaN    benzin  volkswagen   \n",
       "freq              NaN                 NaN     18161        6385   \n",
       "mean    125729.500000            5.732933       NaN         NaN   \n",
       "std      39857.746438            3.697134       NaN         NaN   \n",
       "min       5000.000000            0.000000       NaN         NaN   \n",
       "25%     125000.000000            3.000000       NaN         NaN   \n",
       "50%     150000.000000            6.000000       NaN         NaN   \n",
       "75%     150000.000000            9.000000       NaN         NaN   \n",
       "max     150000.000000           12.000000       NaN         NaN   \n",
       "\n",
       "       unrepaired_damage           ad_created  num_photos   postal_code  \\\n",
       "count              24077                30000     30000.0  30000.000000   \n",
       "unique                 2                   58         NaN           NaN   \n",
       "top                 nein  2016-04-03 00:00:00         NaN           NaN   \n",
       "freq               21208                 1189         NaN           NaN   \n",
       "mean                 NaN                  NaN         0.0  51007.737833   \n",
       "std                  NaN                  NaN         0.0  25899.208456   \n",
       "min                  NaN                  NaN         0.0   1067.000000   \n",
       "25%                  NaN                  NaN         0.0  30459.000000   \n",
       "50%                  NaN                  NaN         0.0  49661.000000   \n",
       "75%                  NaN                  NaN         0.0  72108.000000   \n",
       "max                  NaN                  NaN         0.0  99998.000000   \n",
       "\n",
       "                  last_seen  \n",
       "count                 30000  \n",
       "unique                24924  \n",
       "top     2016-04-07 03:46:06  \n",
       "freq                      6  \n",
       "mean                    NaN  \n",
       "std                     NaN  \n",
       "min                     NaN  \n",
       "25%                     NaN  \n",
       "50%                     NaN  \n",
       "75%                     NaN  \n",
       "max                     NaN  "
      ]
     },
     "execution_count": 90,
     "metadata": {},
     "output_type": "execute_result"
    }
   ],
   "source": [
    "autos.describe(include='all')"
   ]
  },
  {
   "cell_type": "markdown",
   "metadata": {},
   "source": [
    "Observations:\n",
    "    - There are columns with text where all values are the same\n",
    "            1. seller\n",
    "            2. offer_type\n",
    "    - num_photos column is odd, and taking a value count will check the values stored"
   ]
  },
  {
   "cell_type": "code",
   "execution_count": 91,
   "metadata": {},
   "outputs": [],
   "source": [
    "autos['num_photos'].value_counts()\n",
    "\n",
    "# The num_photos column has 0 for every column.\n",
    "# Dropping the column because it serves no purpose and unhelpful in our analysis\n",
    "\n",
    "autos = autos.drop(['num_photos'], axis=1)"
   ]
  },
  {
   "cell_type": "code",
   "execution_count": 92,
   "metadata": {},
   "outputs": [],
   "source": [
    "# Also we drop the column and the seller and offer_type\n",
    "autos = autos.drop(['seller', 'offer_type'], axis=1)"
   ]
  },
  {
   "cell_type": "code",
   "execution_count": 93,
   "metadata": {},
   "outputs": [
    {
     "name": "stderr",
     "output_type": "stream",
     "text": [
      "C:\\Users\\kuria\\AppData\\Local\\Temp\\ipykernel_4124\\404908277.py:4: FutureWarning: The default value of regex will change from True to False in a future version. In addition, single character regular expressions will *not* be treated as literal strings when regex=True.\n",
      "  .str.replace(\"$\",\"\")\n"
     ]
    },
    {
     "data": {
      "text/plain": [
       "0    4900\n",
       "1     300\n",
       "2     400\n",
       "3    2800\n",
       "4     950\n",
       "Name: price, dtype: int32"
      ]
     },
     "execution_count": 93,
     "metadata": {},
     "output_type": "execute_result"
    }
   ],
   "source": [
    "# Next we convert the 'price' and 'odometer' because there are characters that are stored as text instead of numerical values\n",
    "\n",
    "autos['price'] = (autos['price'].astype(str)\n",
    "                            .str.replace(\"$\",\"\")\n",
    "                            .str.replace(\",\",\"\")\n",
    "                            .astype(int)\n",
    "                            )\n",
    "autos['price'].head()"
   ]
  },
  {
   "cell_type": "code",
   "execution_count": 94,
   "metadata": {},
   "outputs": [
    {
     "data": {
      "text/plain": [
       "0    150000\n",
       "1    150000\n",
       "2      5000\n",
       "3    150000\n",
       "4    150000\n",
       "Name: odometer_km, dtype: int32"
      ]
     },
     "execution_count": 94,
     "metadata": {},
     "output_type": "execute_result"
    }
   ],
   "source": [
    "autos['odometer'] = (autos['odometer'].astype(str)\n",
    "                            .str.replace(\"km\", \"\")\n",
    "                            .str.replace(\",\", \"\")\n",
    "                            .astype(int)\n",
    "                    )\n",
    "# renaming odometer to odometer_km\n",
    "autos.rename({\"odometer\":\"odometer_km\"}, axis=1, inplace=True)\n",
    "autos[\"odometer_km\"].head()"
   ]
  },
  {
   "cell_type": "markdown",
   "metadata": {},
   "source": [
    "### 5. Exploring the Odometer and Price Columns\n"
   ]
  },
  {
   "cell_type": "code",
   "execution_count": 95,
   "metadata": {},
   "outputs": [
    {
     "data": {
      "text/plain": [
       "150000    19438\n",
       "125000     3076\n",
       "100000     1268\n",
       "90000      1078\n",
       "80000       861\n",
       "70000       796\n",
       "60000       728\n",
       "50000       627\n",
       "5000        533\n",
       "40000       515\n",
       "30000       480\n",
       "20000       457\n",
       "10000       143\n",
       "Name: odometer_km, dtype: int64"
      ]
     },
     "execution_count": 95,
     "metadata": {},
     "output_type": "execute_result"
    }
   ],
   "source": [
    "autos['odometer_km'].value_counts()"
   ]
  },
  {
   "cell_type": "markdown",
   "metadata": {},
   "source": [
    "It seems the values are already rounded indicating the sellers had chose from ore-set options. In addition, there are more high mileage than low mileage vehicles."
   ]
  },
  {
   "cell_type": "code",
   "execution_count": 96,
   "metadata": {},
   "outputs": [
    {
     "name": "stdout",
     "output_type": "stream",
     "text": [
      "(1881,)\n",
      "count    3.000000e+04\n",
      "mean     1.058453e+04\n",
      "std      5.924220e+05\n",
      "min      0.000000e+00\n",
      "25%      1.150000e+03\n",
      "50%      2.950000e+03\n",
      "75%      7.000000e+03\n",
      "max      1.000000e+08\n",
      "Name: price, dtype: float64\n"
     ]
    },
    {
     "data": {
      "text/plain": [
       "0       829\n",
       "1500    466\n",
       "500     440\n",
       "1200    399\n",
       "2500    398\n",
       "1000    363\n",
       "3500    320\n",
       "600     308\n",
       "800     289\n",
       "999     273\n",
       "Name: price, dtype: int64"
      ]
     },
     "execution_count": 96,
     "metadata": {},
     "output_type": "execute_result"
    }
   ],
   "source": [
    "print(autos['price'].unique().shape)\n",
    "print(autos['price'].describe())\n",
    "autos['price'].value_counts().head(10)"
   ]
  },
  {
   "cell_type": "markdown",
   "metadata": {},
   "source": [
    "The prices in the column are also rounded with 1887 unique values, this are rounded prices from the site.\n",
    "\n",
    "There are 829 cars listed with $0 price - we might consider removing these rows.\n",
    "\n",
    "Lastly, the max price is one hundred million dollars, lets take a look at the highest orices further."
   ]
  },
  {
   "cell_type": "code",
   "execution_count": 97,
   "metadata": {},
   "outputs": [
    {
     "data": {
      "text/plain": [
       "99999999    1\n",
       "12345678    2\n",
       "11111111    1\n",
       "9999999     1\n",
       "650000      1\n",
       "300000      1\n",
       "270000      1\n",
       "250000      1\n",
       "219000      1\n",
       "198000      1\n",
       "197500      1\n",
       "195900      1\n",
       "164990      1\n",
       "148000      1\n",
       "137900      1\n",
       "129900      1\n",
       "123456      1\n",
       "120911      1\n",
       "120000      1\n",
       "119911      1\n",
       "Name: price, dtype: int64"
      ]
     },
     "execution_count": 97,
     "metadata": {},
     "output_type": "execute_result"
    }
   ],
   "source": [
    "autos['price'].value_counts().sort_index(ascending=False).head(20)"
   ]
  },
  {
   "cell_type": "code",
   "execution_count": 98,
   "metadata": {},
   "outputs": [
    {
     "data": {
      "text/plain": [
       "0     829\n",
       "1      96\n",
       "5       2\n",
       "9       1\n",
       "10      7\n",
       "11      2\n",
       "12      1\n",
       "13      1\n",
       "14      1\n",
       "15      3\n",
       "18      1\n",
       "19      1\n",
       "20      1\n",
       "25      3\n",
       "30      4\n",
       "35      2\n",
       "40      1\n",
       "49      1\n",
       "50     29\n",
       "55      4\n",
       "Name: price, dtype: int64"
      ]
     },
     "execution_count": 98,
     "metadata": {},
     "output_type": "execute_result"
    }
   ],
   "source": [
    "autos['price'].value_counts().sort_index(ascending=True).head(20)"
   ]
  },
  {
   "cell_type": "markdown",
   "metadata": {},
   "source": [
    "Lets remove anything above $350000 as the prices are steadily increasing to that number and then jump to less realistic numbers."
   ]
  },
  {
   "cell_type": "code",
   "execution_count": 99,
   "metadata": {},
   "outputs": [
    {
     "data": {
      "text/plain": [
       "count     29165.000000\n",
       "mean       5866.054860\n",
       "std        8706.673161\n",
       "min           1.000000\n",
       "25%        1250.000000\n",
       "50%        3000.000000\n",
       "75%        7400.000000\n",
       "max      300000.000000\n",
       "Name: price, dtype: float64"
      ]
     },
     "execution_count": 99,
     "metadata": {},
     "output_type": "execute_result"
    }
   ],
   "source": [
    "autos = autos[autos['price'].between(1, 351000)]\n",
    "autos['price'].describe()"
   ]
  },
  {
   "cell_type": "markdown",
   "metadata": {},
   "source": [
    "### 6. Exploring the date columns\n"
   ]
  },
  {
   "cell_type": "markdown",
   "metadata": {},
   "source": [
    "There are 5 columns representing date values;\n",
    "- `date_crawled`: added by the crawler\n",
    "- `last_seen`: added by the crawler\n",
    "- `ad_created`: from the website\n",
    "- `registration_month`: from the website\n",
    "- `registration_year`: from the website\n",
    "\n",
    "These are a combination of dates that were crawled, and dates with meta-information from the crawler. The non-registration dates are stored as strings.\n",
    "\n",
    "\n",
    "Lets exlore each off the columns to learn more about the listings."
   ]
  },
  {
   "cell_type": "code",
   "execution_count": 100,
   "metadata": {},
   "outputs": [
    {
     "data": {
      "text/html": [
       "<div>\n",
       "<style scoped>\n",
       "    .dataframe tbody tr th:only-of-type {\n",
       "        vertical-align: middle;\n",
       "    }\n",
       "\n",
       "    .dataframe tbody tr th {\n",
       "        vertical-align: top;\n",
       "    }\n",
       "\n",
       "    .dataframe thead th {\n",
       "        text-align: right;\n",
       "    }\n",
       "</style>\n",
       "<table border=\"1\" class=\"dataframe\">\n",
       "  <thead>\n",
       "    <tr style=\"text-align: right;\">\n",
       "      <th></th>\n",
       "      <th>date_crawled</th>\n",
       "      <th>ad_created</th>\n",
       "      <th>last_seen</th>\n",
       "    </tr>\n",
       "  </thead>\n",
       "  <tbody>\n",
       "    <tr>\n",
       "      <th>0</th>\n",
       "      <td>2016-03-16 21:37:36</td>\n",
       "      <td>2016-03-16 00:00:00</td>\n",
       "      <td>2016-04-07 13:15:40</td>\n",
       "    </tr>\n",
       "    <tr>\n",
       "      <th>1</th>\n",
       "      <td>2016-04-01 13:36:58</td>\n",
       "      <td>2016-04-01 00:00:00</td>\n",
       "      <td>2016-04-07 11:18:05</td>\n",
       "    </tr>\n",
       "    <tr>\n",
       "      <th>2</th>\n",
       "      <td>2016-04-03 15:45:31</td>\n",
       "      <td>2016-04-03 00:00:00</td>\n",
       "      <td>2016-04-05 14:46:21</td>\n",
       "    </tr>\n",
       "    <tr>\n",
       "      <th>3</th>\n",
       "      <td>2016-03-30 11:52:34</td>\n",
       "      <td>2016-03-30 00:00:00</td>\n",
       "      <td>2016-04-07 02:45:04</td>\n",
       "    </tr>\n",
       "    <tr>\n",
       "      <th>4</th>\n",
       "      <td>2016-04-01 16:37:30</td>\n",
       "      <td>2016-04-01 00:00:00</td>\n",
       "      <td>2016-04-01 16:37:30</td>\n",
       "    </tr>\n",
       "  </tbody>\n",
       "</table>\n",
       "</div>"
      ],
      "text/plain": [
       "          date_crawled           ad_created            last_seen\n",
       "0  2016-03-16 21:37:36  2016-03-16 00:00:00  2016-04-07 13:15:40\n",
       "1  2016-04-01 13:36:58  2016-04-01 00:00:00  2016-04-07 11:18:05\n",
       "2  2016-04-03 15:45:31  2016-04-03 00:00:00  2016-04-05 14:46:21\n",
       "3  2016-03-30 11:52:34  2016-03-30 00:00:00  2016-04-07 02:45:04\n",
       "4  2016-04-01 16:37:30  2016-04-01 00:00:00  2016-04-01 16:37:30"
      ]
     },
     "execution_count": 100,
     "metadata": {},
     "output_type": "execute_result"
    }
   ],
   "source": [
    "autos[['date_crawled','ad_created','last_seen']][0:5]"
   ]
  },
  {
   "cell_type": "markdown",
   "metadata": {},
   "source": [
    "Lets check missing values in the distribution and use percentages iinstead of counts."
   ]
  },
  {
   "cell_type": "code",
   "execution_count": 101,
   "metadata": {},
   "outputs": [
    {
     "data": {
      "text/plain": [
       "2016-03-05    0.025716\n",
       "2016-03-06    0.013544\n",
       "2016-03-07    0.036996\n",
       "2016-03-08    0.032779\n",
       "2016-03-09    0.034048\n",
       "2016-03-10    0.032436\n",
       "2016-03-11    0.034391\n",
       "2016-03-12    0.038162\n",
       "2016-03-13    0.014572\n",
       "2016-03-14    0.036105\n",
       "2016-03-15    0.032676\n",
       "2016-03-16    0.029385\n",
       "2016-03-17    0.031339\n",
       "2016-03-18    0.011692\n",
       "2016-03-19    0.036071\n",
       "2016-03-20    0.035419\n",
       "2016-03-21    0.036722\n",
       "2016-03-22    0.029419\n",
       "2016-03-23    0.032539\n",
       "2016-03-24    0.029865\n",
       "2016-03-25    0.030276\n",
       "2016-03-26    0.032950\n",
       "2016-03-27    0.029385\n",
       "2016-03-28    0.032779\n",
       "2016-03-29    0.034048\n",
       "2016-03-30    0.033533\n",
       "2016-03-31    0.035419\n",
       "2016-04-01    0.036173\n",
       "2016-04-02    0.035419\n",
       "2016-04-03    0.039465\n",
       "2016-04-04    0.038608\n",
       "2016-04-05    0.013544\n",
       "2016-04-06    0.003086\n",
       "2016-04-07    0.001440\n",
       "Name: date_crawled, dtype: float64"
      ]
     },
     "execution_count": 101,
     "metadata": {},
     "output_type": "execute_result"
    }
   ],
   "source": [
    "(autos['date_crawled']\n",
    "                .str[:10]\n",
    "                .value_counts(normalize=True, dropna=False)\n",
    "                .sort_index()\n",
    ")\n"
   ]
  },
  {
   "cell_type": "code",
   "execution_count": 104,
   "metadata": {},
   "outputs": [
    {
     "data": {
      "text/plain": [
       "2016-04-07    0.001440\n",
       "2016-04-06    0.003086\n",
       "2016-03-18    0.011692\n",
       "2016-03-06    0.013544\n",
       "2016-04-05    0.013544\n",
       "2016-03-13    0.014572\n",
       "2016-03-05    0.025716\n",
       "2016-03-27    0.029385\n",
       "2016-03-16    0.029385\n",
       "2016-03-22    0.029419\n",
       "2016-03-24    0.029865\n",
       "2016-03-25    0.030276\n",
       "2016-03-17    0.031339\n",
       "2016-03-10    0.032436\n",
       "2016-03-23    0.032539\n",
       "2016-03-15    0.032676\n",
       "2016-03-28    0.032779\n",
       "2016-03-08    0.032779\n",
       "2016-03-26    0.032950\n",
       "2016-03-30    0.033533\n",
       "2016-03-09    0.034048\n",
       "2016-03-29    0.034048\n",
       "2016-03-11    0.034391\n",
       "2016-03-20    0.035419\n",
       "2016-04-02    0.035419\n",
       "2016-03-31    0.035419\n",
       "2016-03-19    0.036071\n",
       "2016-03-14    0.036105\n",
       "2016-04-01    0.036173\n",
       "2016-03-21    0.036722\n",
       "2016-03-07    0.036996\n",
       "2016-03-12    0.038162\n",
       "2016-04-04    0.038608\n",
       "2016-04-03    0.039465\n",
       "Name: date_crawled, dtype: float64"
      ]
     },
     "execution_count": 104,
     "metadata": {},
     "output_type": "execute_result"
    }
   ],
   "source": [
    "(autos['date_crawled']\n",
    "                .str[:10]\n",
    "                .value_counts(normalize=True, dropna=False)\n",
    "                .sort_values()\n",
    ")\n"
   ]
  },
  {
   "cell_type": "markdown",
   "metadata": {},
   "source": [
    "Looks like the site was crawled daily over roughly a one month period in March and April 2016. The distribution of listings crawled on each day is roughly uniform."
   ]
  },
  {
   "cell_type": "code",
   "execution_count": 105,
   "metadata": {},
   "outputs": [
    {
     "data": {
      "text/plain": [
       "2016-03-05    0.001234\n",
       "2016-03-06    0.003840\n",
       "2016-03-07    0.005417\n",
       "2016-03-08    0.007920\n",
       "2016-03-09    0.010183\n",
       "2016-03-10    0.010355\n",
       "2016-03-11    0.013269\n",
       "2016-03-12    0.025647\n",
       "2016-03-13    0.008538\n",
       "2016-03-14    0.012241\n",
       "2016-03-15    0.016767\n",
       "2016-03-16    0.015704\n",
       "2016-03-17    0.027122\n",
       "2016-03-18    0.006378\n",
       "2016-03-19    0.017144\n",
       "2016-03-20    0.020710\n",
       "2016-03-21    0.019990\n",
       "2016-03-22    0.020127\n",
       "2016-03-23    0.018893\n",
       "2016-03-24    0.019030\n",
       "2016-03-25    0.018824\n",
       "2016-03-26    0.017521\n",
       "2016-03-27    0.016390\n",
       "2016-03-28    0.020778\n",
       "2016-03-29    0.022630\n",
       "2016-03-30    0.024447\n",
       "2016-03-31    0.023384\n",
       "2016-04-01    0.023007\n",
       "2016-04-02    0.026882\n",
       "2016-04-03    0.025853\n",
       "2016-04-04    0.024824\n",
       "2016-04-05    0.124670\n",
       "2016-04-06    0.218310\n",
       "2016-04-07    0.131973\n",
       "Name: last_seen, dtype: float64"
      ]
     },
     "execution_count": 105,
     "metadata": {},
     "output_type": "execute_result"
    }
   ],
   "source": [
    "(autos['last_seen']\n",
    "                .str[:10]\n",
    "                .value_counts(normalize=True, dropna=False)\n",
    "                .sort_index()\n",
    ")\n"
   ]
  },
  {
   "cell_type": "markdown",
   "metadata": {},
   "source": [
    "The crawler recorded the date it last saw any listing, which asllows us to determine on what day a listing was removeed, presumably because the car was sold.\n",
    "\n",
    "The last three days contain a disproportionate amount of 'last seen' values. Given that these are ore than the calues from previous days, its likely there was massive spike in sales, and more likely that these values are to do with the crawling period ending and dont necessary indicate car sales."
   ]
  },
  {
   "cell_type": "code",
   "execution_count": 106,
   "metadata": {},
   "outputs": [
    {
     "name": "stdout",
     "output_type": "stream",
     "text": [
      "(58,)\n"
     ]
    },
    {
     "data": {
      "text/plain": [
       "2015-09-04    0.000034\n",
       "2016-01-13    0.000034\n",
       "2016-01-15    0.000034\n",
       "2016-01-23    0.000034\n",
       "2016-01-25    0.000034\n",
       "2016-02-01    0.000034\n",
       "2016-02-10    0.000034\n",
       "2016-02-11    0.000034\n",
       "2016-02-14    0.000034\n",
       "2016-02-17    0.000034\n",
       "2016-02-18    0.000069\n",
       "2016-02-19    0.000034\n",
       "2016-02-20    0.000069\n",
       "2016-02-21    0.000103\n",
       "2016-02-22    0.000034\n",
       "2016-02-24    0.000034\n",
       "2016-02-25    0.000034\n",
       "2016-02-26    0.000034\n",
       "2016-02-28    0.000206\n",
       "2016-02-29    0.000240\n",
       "2016-03-01    0.000137\n",
       "2016-03-02    0.000103\n",
       "2016-03-03    0.001200\n",
       "2016-03-04    0.001852\n",
       "2016-03-05    0.023007\n",
       "2016-03-06    0.014469\n",
       "2016-03-07    0.035693\n",
       "2016-03-08    0.033190\n",
       "2016-03-09    0.033705\n",
       "2016-03-10    0.032265\n",
       "2016-03-11    0.034802\n",
       "2016-03-12    0.038059\n",
       "2016-03-13    0.015704\n",
       "2016-03-14    0.034493\n",
       "2016-03-15    0.033362\n",
       "2016-03-16    0.029316\n",
       "2016-03-17    0.031030\n",
       "2016-03-18    0.012755\n",
       "2016-03-19    0.035042\n",
       "2016-03-20    0.035865\n",
       "2016-03-21    0.036722\n",
       "2016-03-22    0.028802\n",
       "2016-03-23    0.032608\n",
       "2016-03-24    0.029659\n",
       "2016-03-25    0.030516\n",
       "2016-03-26    0.033259\n",
       "2016-03-27    0.029350\n",
       "2016-03-28    0.032436\n",
       "2016-03-29    0.034082\n",
       "2016-03-30    0.033396\n",
       "2016-03-31    0.035625\n",
       "2016-04-01    0.035762\n",
       "2016-04-02    0.035556\n",
       "2016-04-03    0.039602\n",
       "2016-04-04    0.038745\n",
       "2016-04-05    0.012138\n",
       "2016-04-06    0.003086\n",
       "2016-04-07    0.001406\n",
       "Name: ad_created, dtype: float64"
      ]
     },
     "execution_count": 106,
     "metadata": {},
     "output_type": "execute_result"
    }
   ],
   "source": [
    "print(autos['ad_created'].str[:10].unique().shape)\n",
    "(autos['ad_created']\n",
    "    .str[:10]\n",
    "    .value_counts(normalize=True, dropna=False)\n",
    "    .sort_index()\n",
    "    )"
   ]
  },
  {
   "cell_type": "markdown",
   "metadata": {},
   "source": [
    "There is large variety of ad created dates.Most fall within a month of the listing date, but a few are quite old, with the oldest at around 9 months."
   ]
  },
  {
   "cell_type": "code",
   "execution_count": 107,
   "metadata": {},
   "outputs": [
    {
     "data": {
      "text/plain": [
       "count    29165.000000\n",
       "mean      2004.748431\n",
       "std         82.223946\n",
       "min       1000.000000\n",
       "25%       1999.000000\n",
       "50%       2004.000000\n",
       "75%       2008.000000\n",
       "max       9999.000000\n",
       "Name: registration_year, dtype: float64"
      ]
     },
     "execution_count": 107,
     "metadata": {},
     "output_type": "execute_result"
    }
   ],
   "source": [
    "autos['registration_year'].describe()"
   ]
  },
  {
   "cell_type": "markdown",
   "metadata": {},
   "source": [
    "The year tthat the car was first registered will likely indicate the age of the car. Looking at this column, we note some odd values, The max value is 100, long before cars were invented and the max is 9999, many yaers into the future."
   ]
  },
  {
   "cell_type": "markdown",
   "metadata": {},
   "source": [
    "### 7. Dealing with Incorrect Registration Year Data"
   ]
  },
  {
   "cell_type": "markdown",
   "metadata": {},
   "source": [
    "Because a car can't be first registered after the listing was seen, any vehicle with a registration year above 2016 is definitely inaccurate. Determining the earliest valid year is more difficult. Realistically, it could be somewhere in the first few decades of the 1900s.#\n",
    "\n",
    "Let's count the number of listings with cars that fall outside the 1900 - 2016 interval and see if it's safe to remove those rows entirely, or if we need more custom logic."
   ]
  },
  {
   "cell_type": "code",
   "execution_count": 108,
   "metadata": {},
   "outputs": [
    {
     "data": {
      "text/plain": [
       "0.03953368763929367"
      ]
     },
     "execution_count": 108,
     "metadata": {},
     "output_type": "execute_result"
    }
   ],
   "source": [
    "(~autos[\"registration_year\"].between(1900,2016)).sum() / autos.shape[0]"
   ]
  },
  {
   "cell_type": "markdown",
   "metadata": {},
   "source": [
    "Given that this is less than 4% of our data, we will remove these rows."
   ]
  },
  {
   "cell_type": "code",
   "execution_count": 109,
   "metadata": {},
   "outputs": [
    {
     "data": {
      "text/plain": [
       "2000    0.064972\n",
       "1999    0.064401\n",
       "2005    0.062259\n",
       "2004    0.058118\n",
       "2003    0.057547\n",
       "2006    0.057368\n",
       "2001    0.057011\n",
       "2002    0.055262\n",
       "1998    0.050300\n",
       "2007    0.050086\n",
       "Name: registration_year, dtype: float64"
      ]
     },
     "execution_count": 109,
     "metadata": {},
     "output_type": "execute_result"
    }
   ],
   "source": [
    "autos = autos[autos[\"registration_year\"].between(1900,2016)]\n",
    "autos[\"registration_year\"].value_counts(normalize=True).head(10)"
   ]
  },
  {
   "cell_type": "markdown",
   "metadata": {},
   "source": [
    "It appears that most of the vehicles were first registered in the past 20 years."
   ]
  },
  {
   "cell_type": "markdown",
   "metadata": {},
   "source": [
    "### 8. Exploring Price by Brand"
   ]
  },
  {
   "cell_type": "code",
   "execution_count": 111,
   "metadata": {},
   "outputs": [
    {
     "data": {
      "text/plain": [
       "volkswagen        0.209553\n",
       "opel              0.109489\n",
       "bmw               0.109346\n",
       "mercedes_benz     0.093924\n",
       "audi              0.089712\n",
       "ford              0.069756\n",
       "renault           0.046908\n",
       "peugeot           0.029916\n",
       "fiat              0.025596\n",
       "seat              0.017207\n",
       "skoda             0.016243\n",
       "mazda             0.015493\n",
       "citroen           0.015101\n",
       "smart             0.013566\n",
       "nissan            0.012959\n",
       "toyota            0.012423\n",
       "sonstige_autos    0.009853\n",
       "mini              0.009639\n",
       "hyundai           0.009639\n",
       "mitsubishi        0.009532\n",
       "volvo             0.008746\n",
       "kia               0.007854\n",
       "honda             0.007675\n",
       "alfa_romeo        0.007140\n",
       "suzuki            0.007033\n",
       "chevrolet         0.005962\n",
       "porsche           0.005712\n",
       "chrysler          0.003998\n",
       "land_rover        0.002570\n",
       "dacia             0.002535\n",
       "subaru            0.002178\n",
       "daihatsu          0.001999\n",
       "jaguar            0.001928\n",
       "jeep              0.001821\n",
       "daewoo            0.001714\n",
       "saab              0.001464\n",
       "lancia            0.001285\n",
       "trabant           0.001035\n",
       "rover             0.000964\n",
       "lada              0.000535\n",
       "Name: brand, dtype: float64"
      ]
     },
     "execution_count": 111,
     "metadata": {},
     "output_type": "execute_result"
    }
   ],
   "source": [
    "autos['brand'].value_counts(normalize=True)"
   ]
  },
  {
   "cell_type": "markdown",
   "metadata": {},
   "source": [
    "German manufacturers represent four out of the top five brands, almost 50% of the overall listings. Volkswagen is by far the most popular brand, with approximately double the cars for sale of the next two brands combined.\n",
    "\n",
    "There are lots of brands that don't have a significant percentage of listings, so we will limit our analysis to brands representing more than 5% of total listings."
   ]
  },
  {
   "cell_type": "code",
   "execution_count": 116,
   "metadata": {},
   "outputs": [
    {
     "name": "stdout",
     "output_type": "stream",
     "text": [
      "Index(['volkswagen', 'opel', 'bmw', 'mercedes_benz', 'audi', 'ford'], dtype='object')\n"
     ]
    }
   ],
   "source": [
    "brand_counts = autos['brand'].value_counts(normalize=True)\n",
    "common_brands = brand_counts[brand_counts > .05].index\n",
    "print(common_brands)"
   ]
  },
  {
   "cell_type": "code",
   "execution_count": 117,
   "metadata": {},
   "outputs": [
    {
     "data": {
      "text/plain": [
       "{'volkswagen': 5420,\n",
       " 'opel': 2987,\n",
       " 'bmw': 8525,\n",
       " 'mercedes_benz': 8753,\n",
       " 'audi': 9077,\n",
       " 'ford': 3554}"
      ]
     },
     "execution_count": 117,
     "metadata": {},
     "output_type": "execute_result"
    }
   ],
   "source": [
    "brand_mean_prices = {}\n",
    "\n",
    "for brand in common_brands:\n",
    "    brand_only = autos[autos['brand'] == brand]\n",
    "    mean_price = brand_only['price'].mean()\n",
    "    brand_mean_prices[brand] = int(mean_price)\n",
    "\n",
    "brand_mean_prices"
   ]
  },
  {
   "cell_type": "markdown",
   "metadata": {},
   "source": [
    "Of the top 5 brands, there is a distinct price gap:\n",
    "\n",
    "- Audi, BMW and Mercedes Benz are of higher cost\n",
    "-  Ford and Opel are less costly\n",
    "- And, Volkswagen is in the average cost wise"
   ]
  },
  {
   "cell_type": "markdown",
   "metadata": {},
   "source": [
    "### 9. Storing Aggregate Data in a DataFrame\n"
   ]
  },
  {
   "cell_type": "code",
   "execution_count": 119,
   "metadata": {},
   "outputs": [
    {
     "data": {
      "text/html": [
       "<div>\n",
       "<style scoped>\n",
       "    .dataframe tbody tr th:only-of-type {\n",
       "        vertical-align: middle;\n",
       "    }\n",
       "\n",
       "    .dataframe tbody tr th {\n",
       "        vertical-align: top;\n",
       "    }\n",
       "\n",
       "    .dataframe thead th {\n",
       "        text-align: right;\n",
       "    }\n",
       "</style>\n",
       "<table border=\"1\" class=\"dataframe\">\n",
       "  <thead>\n",
       "    <tr style=\"text-align: right;\">\n",
       "      <th></th>\n",
       "      <th>mean_price</th>\n",
       "    </tr>\n",
       "  </thead>\n",
       "  <tbody>\n",
       "    <tr>\n",
       "      <th>volkswagen</th>\n",
       "      <td>5420</td>\n",
       "    </tr>\n",
       "    <tr>\n",
       "      <th>opel</th>\n",
       "      <td>2987</td>\n",
       "    </tr>\n",
       "    <tr>\n",
       "      <th>bmw</th>\n",
       "      <td>8525</td>\n",
       "    </tr>\n",
       "    <tr>\n",
       "      <th>mercedes_benz</th>\n",
       "      <td>8753</td>\n",
       "    </tr>\n",
       "    <tr>\n",
       "      <th>audi</th>\n",
       "      <td>9077</td>\n",
       "    </tr>\n",
       "    <tr>\n",
       "      <th>ford</th>\n",
       "      <td>3554</td>\n",
       "    </tr>\n",
       "  </tbody>\n",
       "</table>\n",
       "</div>"
      ],
      "text/plain": [
       "               mean_price\n",
       "volkswagen           5420\n",
       "opel                 2987\n",
       "bmw                  8525\n",
       "mercedes_benz        8753\n",
       "audi                 9077\n",
       "ford                 3554"
      ]
     },
     "execution_count": 119,
     "metadata": {},
     "output_type": "execute_result"
    }
   ],
   "source": [
    "bmp_series = pd.Series(brand_mean_prices)\n",
    "pd.DataFrame(bmp_series, columns=['mean_price'])"
   ]
  },
  {
   "cell_type": "code",
   "execution_count": 121,
   "metadata": {},
   "outputs": [],
   "source": [
    "brand_mean_mileage = {}\n",
    "\n",
    "for brand in common_brands:\n",
    "    brand_only = autos[autos['brand'] == brand]\n",
    "    mean_mileage = brand_only['odometer_km'].mean()\n",
    "    brand_mean_mileage[brand] = int(mean_mileage)\n",
    "\n",
    "mean_mileage = pd.Series(brand_mean_mileage).sort_values(ascending=False)\n",
    "mean_prices = pd.Series(brand_mean_prices).sort_values(ascending=False)\n"
   ]
  },
  {
   "cell_type": "code",
   "execution_count": 122,
   "metadata": {},
   "outputs": [
    {
     "data": {
      "text/html": [
       "<div>\n",
       "<style scoped>\n",
       "    .dataframe tbody tr th:only-of-type {\n",
       "        vertical-align: middle;\n",
       "    }\n",
       "\n",
       "    .dataframe tbody tr th {\n",
       "        vertical-align: top;\n",
       "    }\n",
       "\n",
       "    .dataframe thead th {\n",
       "        text-align: right;\n",
       "    }\n",
       "</style>\n",
       "<table border=\"1\" class=\"dataframe\">\n",
       "  <thead>\n",
       "    <tr style=\"text-align: right;\">\n",
       "      <th></th>\n",
       "      <th>mean_mileage</th>\n",
       "    </tr>\n",
       "  </thead>\n",
       "  <tbody>\n",
       "    <tr>\n",
       "      <th>bmw</th>\n",
       "      <td>133072</td>\n",
       "    </tr>\n",
       "    <tr>\n",
       "      <th>opel</th>\n",
       "      <td>129701</td>\n",
       "    </tr>\n",
       "    <tr>\n",
       "      <th>audi</th>\n",
       "      <td>129194</td>\n",
       "    </tr>\n",
       "    <tr>\n",
       "      <th>mercedes_benz</th>\n",
       "      <td>128954</td>\n",
       "    </tr>\n",
       "    <tr>\n",
       "      <th>volkswagen</th>\n",
       "      <td>128586</td>\n",
       "    </tr>\n",
       "    <tr>\n",
       "      <th>ford</th>\n",
       "      <td>123697</td>\n",
       "    </tr>\n",
       "  </tbody>\n",
       "</table>\n",
       "</div>"
      ],
      "text/plain": [
       "               mean_mileage\n",
       "bmw                  133072\n",
       "opel                 129701\n",
       "audi                 129194\n",
       "mercedes_benz        128954\n",
       "volkswagen           128586\n",
       "ford                 123697"
      ]
     },
     "execution_count": 122,
     "metadata": {},
     "output_type": "execute_result"
    }
   ],
   "source": [
    "brand_info = pd.DataFrame(mean_mileage, columns=['mean_mileage'])\n",
    "brand_info"
   ]
  },
  {
   "cell_type": "markdown",
   "metadata": {},
   "source": [
    "The range of car mileages does not vary as much as the prices do by brand, instead all falling within 10% for the top brands. There is a slight trend to the more expensive vehicles having higher mileage, with the less expensive vehicles having lower mileage."
   ]
  }
 ],
 "metadata": {
  "kernelspec": {
   "display_name": "Python 3.10.8 64-bit",
   "language": "python",
   "name": "python3"
  },
  "language_info": {
   "codemirror_mode": {
    "name": "ipython",
    "version": 3
   },
   "file_extension": ".py",
   "mimetype": "text/x-python",
   "name": "python",
   "nbconvert_exporter": "python",
   "pygments_lexer": "ipython3",
   "version": "3.10.8"
  },
  "orig_nbformat": 4,
  "vscode": {
   "interpreter": {
    "hash": "26de051ba29f2982a8de78e945f0abaf191376122a1563185a90213a26c5da77"
   }
  }
 },
 "nbformat": 4,
 "nbformat_minor": 2
}
